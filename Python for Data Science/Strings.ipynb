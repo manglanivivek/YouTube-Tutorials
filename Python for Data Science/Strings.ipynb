{
 "cells": [
  {
   "cell_type": "code",
   "execution_count": 1,
   "metadata": {},
   "outputs": [
    {
     "name": "stdout",
     "output_type": "stream",
     "text": [
      "Chai Piyo\n"
     ]
    }
   ],
   "source": [
    "print(\"Chai Piyo\")"
   ]
  },
  {
   "cell_type": "code",
   "execution_count": 2,
   "metadata": {},
   "outputs": [
    {
     "name": "stdout",
     "output_type": "stream",
     "text": [
      "Chai Piyo\n",
      "Biscuit Khao\n"
     ]
    }
   ],
   "source": [
    "print(\"Chai Piyo\")\n",
    "print(\"Biscuit Khao\")"
   ]
  },
  {
   "cell_type": "code",
   "execution_count": 16,
   "metadata": {},
   "outputs": [
    {
     "name": "stdout",
     "output_type": "stream",
     "text": [
      "Chai Piyo\n",
      "Biscuit Khao\n"
     ]
    }
   ],
   "source": [
    "print(\"Chai Piyo\\n\" + \"Biscuit Khao\")"
   ]
  },
  {
   "cell_type": "code",
   "execution_count": 22,
   "metadata": {},
   "outputs": [
    {
     "name": "stdout",
     "output_type": "stream",
     "text": [
      "Chai Piyo, Biscuit Khao. \n",
      "Chai Piyo, Biscuit Khao. \n",
      "Chai Piyo, Biscuit Khao. \n",
      "Chai Piyo, Biscuit Khao. \n",
      "Chai Piyo, Biscuit Khao. \n",
      "Chai Piyo, Biscuit Khao. \n",
      "Chai Piyo, Biscuit Khao. \n",
      "Chai Piyo, Biscuit Khao. \n",
      "Chai Piyo, Biscuit Khao. \n",
      "Chai Piyo, Biscuit Khao. \n",
      "Chai Piyo, Biscuit Khao. \n",
      "Chai Piyo, Biscuit Khao. \n",
      "Chai Piyo, Biscuit Khao. \n",
      "Chai Piyo, Biscuit Khao. \n",
      "Chai Piyo, Biscuit Khao. \n",
      "Chai Piyo, Biscuit Khao. \n",
      "Chai Piyo, Biscuit Khao. \n",
      "Chai Piyo, Biscuit Khao. \n",
      "Chai Piyo, Biscuit Khao. \n",
      "Chai Piyo, Biscuit Khao. \n",
      "Chai Piyo, Biscuit Khao. \n",
      "Chai Piyo, Biscuit Khao. \n",
      "Chai Piyo, Biscuit Khao. \n",
      "Chai Piyo, Biscuit Khao. \n",
      "Chai Piyo, Biscuit Khao. \n",
      "Chai Piyo, Biscuit Khao. \n",
      "Chai Piyo, Biscuit Khao. \n",
      "Chai Piyo, Biscuit Khao. \n",
      "Chai Piyo, Biscuit Khao. \n",
      "Chai Piyo, Biscuit Khao. \n",
      "Chai Piyo, Biscuit Khao. \n",
      "Chai Piyo, Biscuit Khao. \n",
      "Chai Piyo, Biscuit Khao. \n",
      "Chai Piyo, Biscuit Khao. \n",
      "Chai Piyo, Biscuit Khao. \n",
      "Chai Piyo, Biscuit Khao. \n",
      "Chai Piyo, Biscuit Khao. \n",
      "Chai Piyo, Biscuit Khao. \n",
      "Chai Piyo, Biscuit Khao. \n",
      "Chai Piyo, Biscuit Khao. \n",
      "Chai Piyo, Biscuit Khao. \n",
      "Chai Piyo, Biscuit Khao. \n",
      "Chai Piyo, Biscuit Khao. \n",
      "Chai Piyo, Biscuit Khao. \n",
      "Chai Piyo, Biscuit Khao. \n",
      "Chai Piyo, Biscuit Khao. \n",
      "Chai Piyo, Biscuit Khao. \n",
      "Chai Piyo, Biscuit Khao. \n",
      "Chai Piyo, Biscuit Khao. \n",
      "Chai Piyo, Biscuit Khao. \n",
      "Chai Piyo, Biscuit Khao. \n",
      "Chai Piyo, Biscuit Khao. \n",
      "Chai Piyo, Biscuit Khao. \n",
      "Chai Piyo, Biscuit Khao. \n",
      "Chai Piyo, Biscuit Khao. \n",
      "Chai Piyo, Biscuit Khao. \n",
      "Chai Piyo, Biscuit Khao. \n",
      "Chai Piyo, Biscuit Khao. \n",
      "Chai Piyo, Biscuit Khao. \n",
      "Chai Piyo, Biscuit Khao. \n",
      "Chai Piyo, Biscuit Khao. \n",
      "Chai Piyo, Biscuit Khao. \n",
      "Chai Piyo, Biscuit Khao. \n",
      "Chai Piyo, Biscuit Khao. \n",
      "Chai Piyo, Biscuit Khao. \n",
      "Chai Piyo, Biscuit Khao. \n",
      "Chai Piyo, Biscuit Khao. \n",
      "Chai Piyo, Biscuit Khao. \n",
      "Chai Piyo, Biscuit Khao. \n",
      "Chai Piyo, Biscuit Khao. \n",
      "Chai Piyo, Biscuit Khao. \n",
      "Chai Piyo, Biscuit Khao. \n",
      "Chai Piyo, Biscuit Khao. \n",
      "Chai Piyo, Biscuit Khao. \n",
      "Chai Piyo, Biscuit Khao. \n",
      "Chai Piyo, Biscuit Khao. \n",
      "Chai Piyo, Biscuit Khao. \n",
      "Chai Piyo, Biscuit Khao. \n",
      "Chai Piyo, Biscuit Khao. \n",
      "Chai Piyo, Biscuit Khao. \n",
      "Chai Piyo, Biscuit Khao. \n",
      "Chai Piyo, Biscuit Khao. \n",
      "Chai Piyo, Biscuit Khao. \n",
      "Chai Piyo, Biscuit Khao. \n",
      "Chai Piyo, Biscuit Khao. \n",
      "Chai Piyo, Biscuit Khao. \n",
      "Chai Piyo, Biscuit Khao. \n",
      "Chai Piyo, Biscuit Khao. \n",
      "Chai Piyo, Biscuit Khao. \n",
      "Chai Piyo, Biscuit Khao. \n",
      "Chai Piyo, Biscuit Khao. \n",
      "Chai Piyo, Biscuit Khao. \n",
      "Chai Piyo, Biscuit Khao. \n",
      "Chai Piyo, Biscuit Khao. \n",
      "Chai Piyo, Biscuit Khao. \n",
      "Chai Piyo, Biscuit Khao. \n",
      "Chai Piyo, Biscuit Khao. \n",
      "Chai Piyo, Biscuit Khao. \n",
      "Chai Piyo, Biscuit Khao. \n",
      "Chai Piyo, Biscuit Khao. \n",
      "\n"
     ]
    }
   ],
   "source": [
    "print(\"Chai Piyo, Biscuit Khao. \\n\" * 100) "
   ]
  },
  {
   "cell_type": "code",
   "execution_count": null,
   "metadata": {},
   "outputs": [],
   "source": []
  }
 ],
 "metadata": {
  "kernelspec": {
   "display_name": "Python 3",
   "language": "python",
   "name": "python3"
  },
  "language_info": {
   "codemirror_mode": {
    "name": "ipython",
    "version": 3
   },
   "file_extension": ".py",
   "mimetype": "text/x-python",
   "name": "python",
   "nbconvert_exporter": "python",
   "pygments_lexer": "ipython3",
   "version": "3.10.11"
  }
 },
 "nbformat": 4,
 "nbformat_minor": 2
}
